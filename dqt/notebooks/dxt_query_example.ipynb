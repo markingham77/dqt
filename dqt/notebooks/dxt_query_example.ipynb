{
 "cells": [
  {
   "cell_type": "code",
   "execution_count": 1,
   "metadata": {},
   "outputs": [
    {
     "name": "stderr",
     "output_type": "stream",
     "text": [
      "/Users/mingham/growth/.venv/lib/python3.11/site-packages/snowflake/connector/options.py:103: UserWarning: You have an incompatible version of 'pyarrow' installed (12.0.1), please install a version that adheres to: 'pyarrow<10.1.0,>=10.0.1; extra == \"pandas\"'\n",
      "  warn_incompatible_dep(\n"
     ]
    }
   ],
   "source": [
    "import os\n",
    "import sys\n",
    "sys.path.append('../../dqt')\n",
    "import dqt   \n",
    "import pandas as pd\n",
    "from importlib import reload\n",
    "from pathlib import Path\n",
    "# from dotenv import load_dotenv, find_dotenv\n",
    "from dqt import Query\n",
    "import warnings\n",
    "warnings.filterwarnings('ignore')"
   ]
  },
  {
   "cell_type": "markdown",
   "metadata": {},
   "source": [
    "## Simple paramterised sql call run on snowflake:"
   ]
  },
  {
   "cell_type": "code",
   "execution_count": 4,
   "metadata": {},
   "outputs": [
    {
     "name": "stdout",
     "output_type": "stream",
     "text": [
      "Initiating login request with your identity provider. A browser window should have opened for you to complete the login. If you can't see it, check existing browser windows, or your OS settings. Press CTRL+C to abort and try again...\n",
      "Going to open: https://accounts.google.com/o/saml2/idp?idpid=C01gnd76x&SAMLRequest=lZJPb6MwEMW%2FCvKewWA2TWOFRDRRlEjtNhvoHnrzYodYNTb1mJLup1%2BTP1L30Ep7QEL2e%2F7NzJvp%2FNio4E1YkEZnKIliFAhdGS51naGnchXeogAc05wpo0WG3gWg%2BWwKrFEtzTt30Dvx2glwgX9IAx0uMtRZTQ0DCVSzRgB1FS3yh3tKopgyAGGdx6GLhYP0rINzLcW47%2FuoTyNja0ziOMbxBHvVIPmGPiDarxmtNc5URl0tR9%2FTJ4gEx98HhFd4wvZivJP6PIKvKL%2FPIqDrstyG28eiREF%2B7W5hNHSNsIWwb7IST7v7cwHgK1gVN%2BMJIZHowt6PLkwi0KbfK%2FYiKtO0nfOvRv4P7wXHytTSz2qzzFD7Ink%2B4uvJ%2FqBALI9tQbY72eyXf0aqfwbS1yN2y9Z33a79%2Bfj6UKHg1zVZMiS7AejERg95On8UkzRM4pAkZTKmJKXpKEqT9BkFS1%2BU1MydnNeiWVWZTjuIamNqJU71GTyEQbDk7dx%2FkmeLOKk1H98c0XlJ6IlpZ%2F%2Fb%2BhR%2FdF%2F27YePYLPcGiWr92BlbMPc5wklUXI6kTzcn6RUNEyqnHMrAHxSSpl%2BYQVzfq2d7QTCszP138We%2FQU%3D&RelayState=53906 to authenticate...\n"
     ]
    },
    {
     "data": {
      "text/html": [
       "<div>\n",
       "<style scoped>\n",
       "    .dataframe tbody tr th:only-of-type {\n",
       "        vertical-align: middle;\n",
       "    }\n",
       "\n",
       "    .dataframe tbody tr th {\n",
       "        vertical-align: top;\n",
       "    }\n",
       "\n",
       "    .dataframe thead th {\n",
       "        text-align: right;\n",
       "    }\n",
       "</style>\n",
       "<table border=\"1\" class=\"dataframe\">\n",
       "  <thead>\n",
       "    <tr style=\"text-align: right;\">\n",
       "      <th></th>\n",
       "      <th>ULTIMATE_ID</th>\n",
       "      <th>EVENT_TIMESTAMP</th>\n",
       "    </tr>\n",
       "  </thead>\n",
       "  <tbody>\n",
       "    <tr>\n",
       "      <th>0</th>\n",
       "      <td>e9ad91fd-0bc1-4e6a-b9e1-588e74a78d7b</td>\n",
       "      <td>2018-05-19 05:20:26</td>\n",
       "    </tr>\n",
       "    <tr>\n",
       "      <th>1</th>\n",
       "      <td>d30a1131-00c4-42b8-98e7-39a969dc3cb7</td>\n",
       "      <td>2018-05-19 17:01:29</td>\n",
       "    </tr>\n",
       "    <tr>\n",
       "      <th>2</th>\n",
       "      <td>7d67e449-164c-4bc3-a9e8-942a285f7e63</td>\n",
       "      <td>2018-05-19 04:27:10</td>\n",
       "    </tr>\n",
       "    <tr>\n",
       "      <th>3</th>\n",
       "      <td>1e80a47d-7c64-449a-821a-ef5948f87994</td>\n",
       "      <td>2018-05-19 12:18:23</td>\n",
       "    </tr>\n",
       "    <tr>\n",
       "      <th>4</th>\n",
       "      <td>7d67e449-164c-4bc3-a9e8-942a285f7e63</td>\n",
       "      <td>2018-05-19 04:26:50</td>\n",
       "    </tr>\n",
       "    <tr>\n",
       "      <th>5</th>\n",
       "      <td>0c11f4ef-7651-4e3f-8504-8f651ce1e247</td>\n",
       "      <td>2018-05-19 03:26:12</td>\n",
       "    </tr>\n",
       "    <tr>\n",
       "      <th>6</th>\n",
       "      <td>87ab2136-8825-4c17-bdbc-4d55f81501c8</td>\n",
       "      <td>2018-05-19 15:52:43</td>\n",
       "    </tr>\n",
       "    <tr>\n",
       "      <th>7</th>\n",
       "      <td>49a9ceaa-81ee-4a7b-a483-c345f1b56a34</td>\n",
       "      <td>2018-05-19 23:16:51</td>\n",
       "    </tr>\n",
       "    <tr>\n",
       "      <th>8</th>\n",
       "      <td>87ab2136-8825-4c17-bdbc-4d55f81501c8</td>\n",
       "      <td>2018-05-19 15:52:40</td>\n",
       "    </tr>\n",
       "    <tr>\n",
       "      <th>9</th>\n",
       "      <td>44c3c2f8-f41d-4dd8-8568-cfdd3292c6c6</td>\n",
       "      <td>2018-05-19 13:25:37</td>\n",
       "    </tr>\n",
       "  </tbody>\n",
       "</table>\n",
       "</div>"
      ],
      "text/plain": [
       "                            ULTIMATE_ID     EVENT_TIMESTAMP\n",
       "0  e9ad91fd-0bc1-4e6a-b9e1-588e74a78d7b 2018-05-19 05:20:26\n",
       "1  d30a1131-00c4-42b8-98e7-39a969dc3cb7 2018-05-19 17:01:29\n",
       "2  7d67e449-164c-4bc3-a9e8-942a285f7e63 2018-05-19 04:27:10\n",
       "3  1e80a47d-7c64-449a-821a-ef5948f87994 2018-05-19 12:18:23\n",
       "4  7d67e449-164c-4bc3-a9e8-942a285f7e63 2018-05-19 04:26:50\n",
       "5  0c11f4ef-7651-4e3f-8504-8f651ce1e247 2018-05-19 03:26:12\n",
       "6  87ab2136-8825-4c17-bdbc-4d55f81501c8 2018-05-19 15:52:43\n",
       "7  49a9ceaa-81ee-4a7b-a483-c345f1b56a34 2018-05-19 23:16:51\n",
       "8  87ab2136-8825-4c17-bdbc-4d55f81501c8 2018-05-19 15:52:40\n",
       "9  44c3c2f8-f41d-4dd8-8568-cfdd3292c6c6 2018-05-19 13:25:37"
      ]
     },
     "execution_count": 4,
     "metadata": {},
     "output_type": "execute_result"
    }
   ],
   "source": [
    "q=Query(\"select {{field_1}}, {{field_2}} from lyst_analytics.union_touch_points limit {{limit}}\", field_1=\"ultimate_id\", field_2=\"event_timestamp\", limit=\"10\")\n",
    "q.load()"
   ]
  },
  {
   "cell_type": "markdown",
   "metadata": {},
   "source": [
    "## Parameterized sql query template"
   ]
  },
  {
   "cell_type": "code",
   "execution_count": 2,
   "metadata": {},
   "outputs": [
    {
     "ename": "TemplateNotFound",
     "evalue": "macros.jinja",
     "output_type": "error",
     "traceback": [
      "\u001b[0;31m---------------------------------------------------------------------------\u001b[0m",
      "\u001b[0;31mTemplateNotFound\u001b[0m                          Traceback (most recent call last)",
      "\u001b[1;32m/Users/mingham/dqt/dqt/notebooks/dxt_query_example.ipynb Cell 5\u001b[0m line \u001b[0;36m2\n\u001b[1;32m      <a href='vscode-notebook-cell:/Users/mingham/dqt/dqt/notebooks/dxt_query_example.ipynb#W4sZmlsZQ%3D%3D?line=0'>1</a>\u001b[0m \u001b[39m# q=dxt.Query(\"purchase_intents.sql\",min_query_date=\"2023-09-01\")\u001b[39;00m\n\u001b[0;32m----> <a href='vscode-notebook-cell:/Users/mingham/dqt/dqt/notebooks/dxt_query_example.ipynb#W4sZmlsZQ%3D%3D?line=1'>2</a>\u001b[0m q\u001b[39m=\u001b[39mdqt\u001b[39m.\u001b[39;49mQuery(\u001b[39m\"\u001b[39;49m\u001b[39maggregate_user_data.sql\u001b[39;49m\u001b[39m\"\u001b[39;49m,min_query_date\u001b[39m=\u001b[39;49m\u001b[39m\"\u001b[39;49m\u001b[39m2023-09-01\u001b[39;49m\u001b[39m\"\u001b[39;49m)\n\u001b[1;32m      <a href='vscode-notebook-cell:/Users/mingham/dqt/dqt/notebooks/dxt_query_example.ipynb#W4sZmlsZQ%3D%3D?line=3'>4</a>\u001b[0m q\u001b[39m.\u001b[39mload()\n",
      "File \u001b[0;32m~/dqt/dqt/notebooks/../../dqt/dqt.py:274\u001b[0m, in \u001b[0;36mQuery.__init__\u001b[0;34m(self, query, cache, **kwargs)\u001b[0m\n\u001b[1;32m    272\u001b[0m \u001b[39mself\u001b[39m\u001b[39m.\u001b[39mcore_attributes \u001b[39m=\u001b[39m [\u001b[39m'\u001b[39m\u001b[39mtemplate\u001b[39m\u001b[39m'\u001b[39m,\u001b[39m'\u001b[39m\u001b[39msql\u001b[39m\u001b[39m'\u001b[39m,\u001b[39m'\u001b[39m\u001b[39mcache\u001b[39m\u001b[39m'\u001b[39m,\u001b[39m'\u001b[39m\u001b[39mdf\u001b[39m\u001b[39m'\u001b[39m,\u001b[39m'\u001b[39m\u001b[39mcore_attributes\u001b[39m\u001b[39m'\u001b[39m,\u001b[39m'\u001b[39m\u001b[39mquery\u001b[39m\u001b[39m'\u001b[39m,\u001b[39m'\u001b[39m\u001b[39mcsv\u001b[39m\u001b[39m'\u001b[39m]\n\u001b[1;32m    273\u001b[0m \u001b[39mself\u001b[39m\u001b[39m.\u001b[39mparams\u001b[39m=\u001b[39mQueryParams(disallowed\u001b[39m=\u001b[39m\u001b[39mself\u001b[39m\u001b[39m.\u001b[39mcore_attributes,\u001b[39m*\u001b[39m\u001b[39m*\u001b[39mkwargs)\n\u001b[0;32m--> 274\u001b[0m is_template,compiled_sql\u001b[39m=\u001b[39m\u001b[39mcompile\u001b[39;49m(\u001b[39mself\u001b[39;49m\u001b[39m.\u001b[39;49mquery, \u001b[39m*\u001b[39;49m\u001b[39m*\u001b[39;49m\u001b[39mself\u001b[39;49m\u001b[39m.\u001b[39;49mparams\u001b[39m.\u001b[39;49m\u001b[39m__dict__\u001b[39;49m)\n\u001b[1;32m    275\u001b[0m \u001b[39mself\u001b[39m\u001b[39m.\u001b[39msql \u001b[39m=\u001b[39m Sql(text\u001b[39m=\u001b[39mcompiled_sql)\n\u001b[1;32m    276\u001b[0m \u001b[39mif\u001b[39;00m is_template:\n",
      "File \u001b[0;32m~/dqt/dqt/notebooks/../../dqt/dqt.py:96\u001b[0m, in \u001b[0;36mcompile\u001b[0;34m(template, *args, **kwargs)\u001b[0m\n\u001b[1;32m     94\u001b[0m \u001b[39melse\u001b[39;00m:\n\u001b[1;32m     95\u001b[0m     template \u001b[39m=\u001b[39m environment\u001b[39m.\u001b[39mget_template(template)\n\u001b[0;32m---> 96\u001b[0m     rendered_str \u001b[39m=\u001b[39m template\u001b[39m.\u001b[39;49mrender(kwargs)\n\u001b[1;32m     97\u001b[0m     pattern \u001b[39m=\u001b[39m \u001b[39m'\u001b[39m\u001b[39m\\'\u001b[39;00m\u001b[39m[A-Za-z0-9_.-\u001b[39m\u001b[39m\\\u001b[39m\u001b[39m/]+\u001b[39m\u001b[39m\\\u001b[39m\u001b[39m.csv\u001b[39m\u001b[39m\\'\u001b[39;00m\u001b[39m'\u001b[39m\n\u001b[1;32m     98\u001b[0m     m\u001b[39m=\u001b[39mre\u001b[39m.\u001b[39mfindall(pattern, rendered_str)\n",
      "File \u001b[0;32m~/growth/.venv/lib/python3.11/site-packages/jinja2/environment.py:1301\u001b[0m, in \u001b[0;36mTemplate.render\u001b[0;34m(self, *args, **kwargs)\u001b[0m\n\u001b[1;32m   1299\u001b[0m     \u001b[39mreturn\u001b[39;00m \u001b[39mself\u001b[39m\u001b[39m.\u001b[39menvironment\u001b[39m.\u001b[39mconcat(\u001b[39mself\u001b[39m\u001b[39m.\u001b[39mroot_render_func(ctx))  \u001b[39m# type: ignore\u001b[39;00m\n\u001b[1;32m   1300\u001b[0m \u001b[39mexcept\u001b[39;00m \u001b[39mException\u001b[39;00m:\n\u001b[0;32m-> 1301\u001b[0m     \u001b[39mself\u001b[39;49m\u001b[39m.\u001b[39;49menvironment\u001b[39m.\u001b[39;49mhandle_exception()\n",
      "File \u001b[0;32m~/growth/.venv/lib/python3.11/site-packages/jinja2/environment.py:936\u001b[0m, in \u001b[0;36mEnvironment.handle_exception\u001b[0;34m(self, source)\u001b[0m\n\u001b[1;32m    931\u001b[0m \u001b[39m\u001b[39m\u001b[39m\"\"\"Exception handling helper.  This is used internally to either raise\u001b[39;00m\n\u001b[1;32m    932\u001b[0m \u001b[39mrewritten exceptions or return a rendered traceback for the template.\u001b[39;00m\n\u001b[1;32m    933\u001b[0m \u001b[39m\"\"\"\u001b[39;00m\n\u001b[1;32m    934\u001b[0m \u001b[39mfrom\u001b[39;00m \u001b[39m.\u001b[39;00m\u001b[39mdebug\u001b[39;00m \u001b[39mimport\u001b[39;00m rewrite_traceback_stack\n\u001b[0;32m--> 936\u001b[0m \u001b[39mraise\u001b[39;00m rewrite_traceback_stack(source\u001b[39m=\u001b[39msource)\n",
      "File \u001b[0;32m~/dqt/user/templates/aggregate_user_data.sql:13\u001b[0m, in \u001b[0;36mtop-level template code\u001b[0;34m()\u001b[0m\n\u001b[1;32m     11\u001b[0m */\n\u001b[1;32m     12\u001b[0m \n\u001b[0;32m---> 13\u001b[0m {% extends \"base.sql\" %}\n\u001b[1;32m     14\u001b[0m {% block main %}\n\u001b[1;32m     15\u001b[0m {% set this = ({\n",
      "File \u001b[0;32m~/dqt/user/templates/base.sql:20\u001b[0m, in \u001b[0;36mtop-level template code\u001b[0;34m()\u001b[0m\n\u001b[1;32m     18\u001b[0m %}\n\u001b[1;32m     19\u001b[0m \n\u001b[0;32m---> 20\u001b[0m {% import 'macros.jinja' as macros %}\n\u001b[1;32m     21\u001b[0m {% import 'mymacros.jinja' as mymacros %}\n\u001b[1;32m     22\u001b[0m \n",
      "File \u001b[0;32m~/growth/.venv/lib/python3.11/site-packages/jinja2/loaders.py:218\u001b[0m, in \u001b[0;36mFileSystemLoader.get_source\u001b[0;34m(self, environment, template)\u001b[0m\n\u001b[1;32m    216\u001b[0m     \u001b[39m# Use normpath to convert Windows altsep to sep.\u001b[39;00m\n\u001b[1;32m    217\u001b[0m     \u001b[39mreturn\u001b[39;00m contents, os\u001b[39m.\u001b[39mpath\u001b[39m.\u001b[39mnormpath(filename), uptodate\n\u001b[0;32m--> 218\u001b[0m \u001b[39mraise\u001b[39;00m TemplateNotFound(template)\n",
      "\u001b[0;31mTemplateNotFound\u001b[0m: macros.jinja"
     ]
    }
   ],
   "source": [
    "# q=dxt.Query(\"purchase_intents.sql\",min_query_date=\"2023-09-01\")\n",
    "q=dqt.Query(\"aggregate_user_data.sql\",min_query_date=\"2023-09-01\")\n",
    "\n",
    "q.load()"
   ]
  },
  {
   "cell_type": "markdown",
   "metadata": {},
   "source": [
    "### Examining the compiled SQL\n",
    "You can either print the compiled SQL, via the .text property or open it in a text editor via the .open() method"
   ]
  },
  {
   "cell_type": "code",
   "execution_count": 3,
   "metadata": {},
   "outputs": [
    {
     "data": {
      "text/plain": [
       "SELECT ultimate_id,\n",
       "       event_timestamp\n",
       "FROM lyst_analytics.union_touch_points\n",
       "LIMIT 10"
      ]
     },
     "execution_count": 3,
     "metadata": {},
     "output_type": "execute_result"
    }
   ],
   "source": [
    "q.sql"
   ]
  },
  {
   "cell_type": "code",
   "execution_count": 80,
   "metadata": {},
   "outputs": [],
   "source": [
    "q.sql.open()"
   ]
  },
  {
   "cell_type": "markdown",
   "metadata": {},
   "source": [
    "## Using macros with local data (we shall use the output form the above cell)"
   ]
  },
  {
   "cell_type": "code",
   "execution_count": 3,
   "metadata": {},
   "outputs": [
    {
     "ename": "NameError",
     "evalue": "name 'q' is not defined",
     "output_type": "error",
     "traceback": [
      "\u001b[0;31m---------------------------------------------------------------------------\u001b[0m",
      "\u001b[0;31mNameError\u001b[0m                                 Traceback (most recent call last)",
      "\u001b[1;32m/Users/mingham/dqt/dqt/notebooks/dxt_query_example.ipynb Cell 10\u001b[0m line \u001b[0;36m7\n\u001b[1;32m      <a href='vscode-notebook-cell:/Users/mingham/dqt/dqt/notebooks/dxt_query_example.ipynb#X14sZmlsZQ%3D%3D?line=0'>1</a>\u001b[0m q\u001b[39m=\u001b[39mdqt\u001b[39m.\u001b[39mQuery(\u001b[39m\"\"\"\u001b[39m\n\u001b[1;32m      <a href='vscode-notebook-cell:/Users/mingham/dqt/dqt/notebooks/dxt_query_example.ipynb#X14sZmlsZQ%3D%3D?line=1'>2</a>\u001b[0m \u001b[39mwith a as (             \u001b[39m\n\u001b[1;32m      <a href='vscode-notebook-cell:/Users/mingham/dqt/dqt/notebooks/dxt_query_example.ipynb#X14sZmlsZQ%3D%3D?line=2'>3</a>\u001b[0m \u001b[39mSELECT \u001b[39m\u001b[39m\"\u001b[39m\u001b[39msessions.event_timestamp_week\u001b[39m\u001b[39m\"\u001b[39m\u001b[39m week,\u001b[39m\u001b[39m\"\u001b[39m\u001b[39mretailers_expanded.network\u001b[39m\u001b[39m\"\u001b[39m\u001b[39m retailer,\u001b[39m\u001b[39m\"\u001b[39m\u001b[39mtracks.conversion_rate\u001b[39m\u001b[39m\"\u001b[39m\u001b[39m cr,\u001b[39m\n\u001b[1;32m      <a href='vscode-notebook-cell:/Users/mingham/dqt/dqt/notebooks/dxt_query_example.ipynb#X14sZmlsZQ%3D%3D?line=3'>4</a>\u001b[0m \u001b[39m \u001b[39m\u001b[39m{{\u001b[39m\u001b[39m mymacros.ma(\u001b[39m\u001b[39m'\u001b[39m\u001b[39mcr\u001b[39m\u001b[39m'\u001b[39m\u001b[39m,4,order=\u001b[39m\u001b[39m'\u001b[39m\u001b[39mweek\u001b[39m\u001b[39m'\u001b[39m\u001b[39m) }} ma4\u001b[39m\n\u001b[1;32m      <a href='vscode-notebook-cell:/Users/mingham/dqt/dqt/notebooks/dxt_query_example.ipynb#X14sZmlsZQ%3D%3D?line=4'>5</a>\u001b[0m \u001b[39mFROM \u001b[39m\u001b[39m'\u001b[39m\u001b[39m{{\u001b[39m\u001b[39mtable}}\u001b[39m\u001b[39m'\u001b[39m\u001b[39m)\u001b[39m\n\u001b[1;32m      <a href='vscode-notebook-cell:/Users/mingham/dqt/dqt/notebooks/dxt_query_example.ipynb#X14sZmlsZQ%3D%3D?line=5'>6</a>\u001b[0m \u001b[39mselect *, \u001b[39m\u001b[39m{{\u001b[39m\u001b[39m macros.pct_change(\u001b[39m\u001b[39m'\u001b[39m\u001b[39mcr\u001b[39m\u001b[39m'\u001b[39m\u001b[39m,4,order=\u001b[39m\u001b[39m'\u001b[39m\u001b[39mweek\u001b[39m\u001b[39m'\u001b[39m\u001b[39m) }} wow_ma4 from a;\u001b[39m\n\u001b[0;32m----> <a href='vscode-notebook-cell:/Users/mingham/dqt/dqt/notebooks/dxt_query_example.ipynb#X14sZmlsZQ%3D%3D?line=6'>7</a>\u001b[0m \u001b[39m\"\"\"\u001b[39m,table\u001b[39m=\u001b[39mq\u001b[39m.\u001b[39mcsv)\n\u001b[1;32m      <a href='vscode-notebook-cell:/Users/mingham/dqt/dqt/notebooks/dxt_query_example.ipynb#X14sZmlsZQ%3D%3D?line=7'>8</a>\u001b[0m \u001b[39m# q.load()\u001b[39;00m\n",
      "\u001b[0;31mNameError\u001b[0m: name 'q' is not defined"
     ]
    }
   ],
   "source": [
    "q=dqt.Query(\"\"\"\n",
    "with a as (             \n",
    "SELECT \"sessions.event_timestamp_week\" week,\"retailers_expanded.network\" retailer,\"tracks.conversion_rate\" cr,\n",
    " {{ mymacros.ma('cr',4,order='week') }} ma4\n",
    "FROM '{{table}}')\n",
    "select *, {{ macros.pct_change('cr',4,order='week') }} wow_ma4 from a;\n",
    "\"\"\",table=q.csv)\n",
    "# q.load()"
   ]
  }
 ],
 "metadata": {
  "kernelspec": {
   "display_name": ".venv",
   "language": "python",
   "name": "python3"
  },
  "language_info": {
   "codemirror_mode": {
    "name": "ipython",
    "version": 3
   },
   "file_extension": ".py",
   "mimetype": "text/x-python",
   "name": "python",
   "nbconvert_exporter": "python",
   "pygments_lexer": "ipython3",
   "version": "3.11.4"
  },
  "orig_nbformat": 4
 },
 "nbformat": 4,
 "nbformat_minor": 2
}
